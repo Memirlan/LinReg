{
  "nbformat": 4,
  "nbformat_minor": 0,
  "metadata": {
    "kernelspec": {
      "display_name": "Python 3",
      "language": "python",
      "name": "python3"
    },
    "language_info": {
      "codemirror_mode": {
        "name": "ipython",
        "version": 3
      },
      "file_extension": ".py",
      "mimetype": "text/x-python",
      "name": "python",
      "nbconvert_exporter": "python",
      "pygments_lexer": "ipython3",
      "version": "3.6.8"
    },
    "colab": {
      "name": "Копия блокнота \"Lab 1: Regression (advanced; student).ipynb\"",
      "provenance": [],
      "collapsed_sections": []
    }
  },
  "cells": [
    {
      "cell_type": "markdown",
      "metadata": {
        "id": "Ttj73Ee58VDE"
      },
      "source": [
        "**NOTE**: Please make a personal copy of this notebook by selecting 'File' > 'Save a copy in Drive' in the menu bars above.\n",
        "\n",
        "\n",
        "Overview\n",
        "=====================\n",
        "\n",
        "While programming offers a powerful way to automate repetitive processes, it's only applicable if we are able to precisely specify and program the behavior we want. Machine learning offers us a way to avoid this need for exact specification by only requiring us to specify a goal, and then having an algorithm learn a way to achieve that goal.\n",
        "\n",
        "The machine learning workflow typically consists of the following steps\n",
        "\n",
        "1. Acquire and process data for the problem of interest\n",
        "2. Choose a model\n",
        "3. Define an objective\n",
        "4. Train the model on the training data\n",
        "5. Evaluate the trained model on the test data\n",
        "\n",
        "We will walk through these steps in a simple but realistic setting."
      ]
    },
    {
      "cell_type": "markdown",
      "metadata": {
        "id": "cUL7mIgUhHZN"
      },
      "source": [
        "# Setup\n",
        "\n",
        "\n",
        "This lab is a Colab notebook, an interactive Python environment.\n",
        "A notebook consists of multiple text blocks (like this one) and code blocks.\n",
        "You can write code blocks, and then execute the code by highlighting the block then pressing control+enter. Try this with the following cell.\n"
      ]
    },
    {
      "cell_type": "code",
      "metadata": {
        "id": "lR6mn19Q8VC9"
      },
      "source": [
        "%matplotlib inline"
      ],
      "execution_count": null,
      "outputs": []
    },
    {
      "cell_type": "markdown",
      "metadata": {
        "id": "AeMRqxilaGAW"
      },
      "source": [
        "\n",
        "This lab relies on a number of standard scientific computing Python packages. The most important of these is NumPy (Numerical Python, commonly imported as `np`), which is a Python package for numerical computing. We'll briefly cover common numpy functions and syntax; you can find a more in-depth guide [here](https://numpy.org/doc/stable/user/quickstart.html) and you can always consult the documentation or Google if you're confused about a function.\n",
        "\n",
        "The core object of numpy is the `array`, which is similar an ordinary Python list. Numpy arrays are frequently multi-dimensional (like a list of lists), and we call each dimension an axis.\n",
        "\n",
        "You can create numpy arrays through a variety of ways:"
      ]
    },
    {
      "cell_type": "code",
      "metadata": {
        "id": "Uu-0Y-vUaGAY",
        "colab": {
          "base_uri": "https://localhost:8080/"
        },
        "outputId": "72b35204-3d5f-4da9-c212-8fe69ba68f62"
      },
      "source": [
        "import numpy as np\n",
        "\n",
        "# call np.array on a valid Python list\n",
        "array = np.array([[1, 2, 3], [4, 5, 6]])\n",
        "print(\"Array 1:\\n\", array)\n",
        "\n",
        "# initialize an array of all zeroes or ones\n",
        "array = np.zeros((3, 4)) # where (3,4) is the shape of the array\n",
        "print(\"Array 2:\\n\", array)\n",
        "\n",
        "array = np.ones((3, 4, 5)) # where (3, 4, 5) is the shape of the array\n",
        "print(\"Array 3:\\n\", array)\n",
        "\n",
        "# initialize an array from a particular distribution\n",
        "array = np.random.normal(loc=0.0, scale=1.0, size=(3,4))  # uses a normal distribution with a mean at 0 and standard deviation of 1.0\n",
        "print(array)\n",
        "#print(\"\\nMean of array:\", array_normal.mean())\n",
        "#print(\"\\nStandard deviation of array:\", array_normal.std())\n",
        "#print(\"\\nMean of array along axis-0 (columns):\", array_normal.mean(axis=0))\n"
      ],
      "execution_count": null,
      "outputs": [
        {
          "output_type": "stream",
          "name": "stdout",
          "text": [
            "Array 1:\n",
            " [[1 2 3]\n",
            " [4 5 6]]\n",
            "Array 2:\n",
            " [[0. 0. 0. 0.]\n",
            " [0. 0. 0. 0.]\n",
            " [0. 0. 0. 0.]]\n",
            "Array 3:\n",
            " [[[1. 1. 1. 1. 1.]\n",
            "  [1. 1. 1. 1. 1.]\n",
            "  [1. 1. 1. 1. 1.]\n",
            "  [1. 1. 1. 1. 1.]]\n",
            "\n",
            " [[1. 1. 1. 1. 1.]\n",
            "  [1. 1. 1. 1. 1.]\n",
            "  [1. 1. 1. 1. 1.]\n",
            "  [1. 1. 1. 1. 1.]]\n",
            "\n",
            " [[1. 1. 1. 1. 1.]\n",
            "  [1. 1. 1. 1. 1.]\n",
            "  [1. 1. 1. 1. 1.]\n",
            "  [1. 1. 1. 1. 1.]]]\n",
            "[[-0.16236085 -1.00356291  1.31738934 -1.29906909]\n",
            " [-2.58923265  1.88304312  0.62635984 -1.20313065]\n",
            " [-0.0580021   0.89435567  0.64325152  1.30081053]]\n"
          ]
        }
      ]
    },
    {
      "cell_type": "markdown",
      "metadata": {
        "id": "zqQwTd1NMmU-"
      },
      "source": [
        "Unlike Python lists, numpy arrays must\n",
        "* have the same number of elements along each dimension (e.g. `[[1], [2,3]]` would not be a valid numpy array).\n",
        "* have all elements be of the same type\n",
        "\n",
        "We can check the type and shape (dimensions) of an array using built-in numpy attributes of arrays."
      ]
    },
    {
      "cell_type": "code",
      "metadata": {
        "id": "4_7fKA1sMW2j",
        "colab": {
          "base_uri": "https://localhost:8080/"
        },
        "outputId": "031fee71-90c6-4f62-af4a-8ed0047ba629"
      },
      "source": [
        "array = np.array([[[1], [2]], [[3], [4]], [[5], [6]]])\n",
        "print(\"Data type:\", array.dtype)\n",
        "print(\"# dimensions:\", array.ndim)\n",
        "print(\"Shape/size of array:\", array.shape)\n",
        "print(\"# elements:\", array.size)\n",
        "print(array)"
      ],
      "execution_count": null,
      "outputs": [
        {
          "output_type": "stream",
          "name": "stdout",
          "text": [
            "Data type: int64\n",
            "# dimensions: 3\n",
            "Shape/size of array: (3, 2, 1)\n",
            "# elements: 6\n",
            "[[[1]\n",
            "  [2]]\n",
            "\n",
            " [[3]\n",
            "  [4]]\n",
            "\n",
            " [[5]\n",
            "  [6]]]\n"
          ]
        }
      ]
    },
    {
      "cell_type": "markdown",
      "metadata": {
        "id": "ojQsAsG4-amU"
      },
      "source": [
        "We can access specific elements of an array using braces (like Python lists) and colons (slices)."
      ]
    },
    {
      "cell_type": "code",
      "metadata": {
        "id": "jtSHq0kfNvzS",
        "colab": {
          "base_uri": "https://localhost:8080/"
        },
        "outputId": "d02f8235-d63e-4960-e1f5-bb1fb6903174"
      },
      "source": [
        "array = np.arange(24).reshape(4, 6)\n",
        "\n",
        "print(\"Array:\\n\", array)\n",
        "print(\"Element 1, 2: \", array[1, 2]) # access one element\n",
        "\n",
        "print(\"Column 2:\", array[:, 1]) # access a column, using slice notation (:)\n",
        "print(\"Row 1:\", array[0]) # access a row\n",
        "\n",
        "print(\"2nd-4th row, 1st-3rd col:\\n\", array[1:3, 0:2]) # partial rows and cols\n",
        "\n",
        "# accessing elements using an array\n",
        "print(\"Selecting one element from each row of array using indices in ind:\")\n",
        "inds = np.array([0, 2, 0, 1])\n",
        "print(array[np.arange(4), inds])  # Prints \"[ 0  8  12 19]\"\n",
        "print(\"-----\")"
      ],
      "execution_count": null,
      "outputs": [
        {
          "output_type": "stream",
          "name": "stdout",
          "text": [
            "Array:\n",
            " [[ 0  1  2  3  4  5]\n",
            " [ 6  7  8  9 10 11]\n",
            " [12 13 14 15 16 17]\n",
            " [18 19 20 21 22 23]]\n",
            "Element 1, 2:  8\n",
            "Column 2: [ 1  7 13 19]\n",
            "Row 1: [0 1 2 3 4 5]\n",
            "2nd-4th row, 1st-3rd col:\n",
            " [[ 6  7]\n",
            " [12 13]]\n",
            "Selecting one element from each row of array using indices in ind:\n",
            "[ 0  8 12 19]\n",
            "-----\n"
          ]
        }
      ]
    },
    {
      "cell_type": "markdown",
      "metadata": {
        "id": "0xPLlKYxJ8P6"
      },
      "source": [
        "Numpy arrays contain many useful functions as built-in methods for arrays. For example, one of the most useful is `array.sum()`. Other useful methods include `min(), max(), argmin(), argmax(), mean(), std()`. All of these methods take in an `axis` argument that specifies the dimension along which to perform the operation."
      ]
    },
    {
      "cell_type": "code",
      "metadata": {
        "id": "uk7CcR_JJ4p_",
        "colab": {
          "base_uri": "https://localhost:8080/"
        },
        "outputId": "85d4544c-5687-4d8e-8d56-9e426cde8c1a"
      },
      "source": [
        "# mathematical methods\n",
        "x = np.array([[1,2],[3,4]])\n",
        "print(\"x: \\n\", x)\n",
        "print(\"-----\")\n",
        "print(\"Compute sum of all elements in x: \", np.sum(x))  # Compute sum of all elements; prints \"10\"\n",
        "print(\"-----\")\n",
        "print(\"Compute sum of each column in x:\", np.sum(x, axis=0))  # Compute sum of each column; prints \"[4 6]\"\n",
        "print(\"-----\")\n",
        "print(\"Compute sum of each row in x: \", np.sum(x, axis=1))  # Compute sum of each row; prints \"[3 7]\"\n",
        "print(\"-----\")"
      ],
      "execution_count": null,
      "outputs": [
        {
          "output_type": "stream",
          "name": "stdout",
          "text": [
            "x: \n",
            " [[1 2]\n",
            " [3 4]]\n",
            "-----\n",
            "Compute sum of all elements in x:  10\n",
            "-----\n",
            "Compute sum of each column in x: [4 6]\n",
            "-----\n",
            "Compute sum of each row in x:  [3 7]\n",
            "-----\n"
          ]
        }
      ]
    },
    {
      "cell_type": "markdown",
      "metadata": {
        "id": "_jorliwCSC2D"
      },
      "source": [
        "We can transform arrays using Python built-in math operators, as well as more complex math operators in numpy, such as `np.power(), np.exp(), np.sqrt(), np.cos()`, etc."
      ]
    },
    {
      "cell_type": "code",
      "metadata": {
        "id": "uy-luRJUSEdL",
        "colab": {
          "base_uri": "https://localhost:8080/"
        },
        "outputId": "ce21efec-4366-498a-cbfc-4be77d66434c"
      },
      "source": [
        "# mathematical transformations\n",
        "array = np.arange(9).reshape((3,3))\n",
        "print(\"Array 1:\\n\", array)\n",
        "\n",
        "print(array + 3) # add a constant to every value, broadcasting\n",
        "array[0] *= 2 # add a constant to only one row\n",
        "print(array)\n",
        "print(np.power(array, 2)) # square every element"
      ],
      "execution_count": null,
      "outputs": [
        {
          "output_type": "stream",
          "name": "stdout",
          "text": [
            "Array 1:\n",
            " [[0 1 2]\n",
            " [3 4 5]\n",
            " [6 7 8]]\n",
            "[[ 3  4  5]\n",
            " [ 6  7  8]\n",
            " [ 9 10 11]]\n",
            "[[0 2 4]\n",
            " [3 4 5]\n",
            " [6 7 8]]\n",
            "[[ 0  4 16]\n",
            " [ 9 16 25]\n",
            " [36 49 64]]\n"
          ]
        }
      ]
    },
    {
      "cell_type": "markdown",
      "metadata": {
        "id": "kPE0seexUspH"
      },
      "source": [
        "We can also transform the dimensions and shape of arrays."
      ]
    },
    {
      "cell_type": "code",
      "metadata": {
        "id": "kvhropfrUvyy",
        "colab": {
          "base_uri": "https://localhost:8080/"
        },
        "outputId": "bf7f4742-3391-4bb6-9e7c-c80d3716767e"
      },
      "source": [
        "# reshaping\n",
        "array = np.arange(9)\n",
        "print(\"Array 0:\\n\", array)\n",
        "print(\"Array 0 shape:\", array.shape)\n",
        "array = array.reshape(3, 3)\n",
        "print(\"Array 0:\\n\", array)\n",
        "print(\"Array 0 shape:\", array.shape)\n",
        "print()\n",
        "\n",
        "array1 = np.arange(9).reshape((3,3))\n",
        "array2 = np.arange(9, 18).reshape((3, 3))\n",
        "print(\"Array 1:\\n\", array1)\n",
        "print(\"Array 2:\\n\", array2)\n",
        "stack_h = np.hstack((array1, array2))\n",
        "stack_v = np.vstack((array1, array2))\n",
        "print(\"Horizontally stacked array 1 and array 2:\\n\", stack_h)\n",
        "print(\"Vertically stacked array 1 and array 2:\\n\", stack_v)\n"
      ],
      "execution_count": null,
      "outputs": [
        {
          "output_type": "stream",
          "name": "stdout",
          "text": [
            "Array 0:\n",
            " [0 1 2 3 4 5 6 7 8]\n",
            "Array 0 shape: (9,)\n",
            "Array 0:\n",
            " [[0 1 2]\n",
            " [3 4 5]\n",
            " [6 7 8]]\n",
            "Array 0 shape: (3, 3)\n",
            "\n",
            "Array 1:\n",
            " [[0 1 2]\n",
            " [3 4 5]\n",
            " [6 7 8]]\n",
            "Array 2:\n",
            " [[ 9 10 11]\n",
            " [12 13 14]\n",
            " [15 16 17]]\n",
            "Horizontally stacked array 1 and array 2:\n",
            " [[ 0  1  2  9 10 11]\n",
            " [ 3  4  5 12 13 14]\n",
            " [ 6  7  8 15 16 17]]\n",
            "Vertically stacked array 1 and array 2:\n",
            " [[ 0  1  2]\n",
            " [ 3  4  5]\n",
            " [ 6  7  8]\n",
            " [ 9 10 11]\n",
            " [12 13 14]\n",
            " [15 16 17]]\n"
          ]
        }
      ]
    },
    {
      "cell_type": "markdown",
      "metadata": {
        "id": "heXTvKjE_sbH"
      },
      "source": [
        "We can do all the standard matrix operations using these numpy arrays. Here we show addition, transposing a matrix, matrix multiplication, and matrix inversion."
      ]
    },
    {
      "cell_type": "code",
      "metadata": {
        "id": "qgeR0bdR_1fn",
        "colab": {
          "base_uri": "https://localhost:8080/"
        },
        "outputId": "22b2339d-55b0-4d47-9afb-dab33febbc10"
      },
      "source": [
        "A = np.random.randint(10, size=(3, 4))\n",
        "B = np.random.randint(10, size=(3, 4))\n",
        "print(\"Matrix A:\\n\", A)\n",
        "print(\"\\nMatrix B:\\n\", B)\n",
        "print(\"\\nA+B:\\n\", A+B)\n",
        "print(\"\\nTranspose B:\\n\", B.transpose())\n",
        "print(\"\\nShape of transpose(B):\", B.transpose().shape)\n",
        "print(\"\\nMatrix multiplication of A and transpose(B):\\n\", np.matmul(A,B.transpose()))\n",
        "\n",
        "C = np.matmul(A,B.transpose())\n",
        "print(\"\\n Invert AB:\", np.linalg.inv(C))"
      ],
      "execution_count": null,
      "outputs": [
        {
          "output_type": "stream",
          "name": "stdout",
          "text": [
            "Matrix A:\n",
            " [[2 9 8 5]\n",
            " [2 0 5 3]\n",
            " [9 2 3 8]]\n",
            "\n",
            "Matrix B:\n",
            " [[4 3 4 0]\n",
            " [4 6 2 9]\n",
            " [2 1 2 9]]\n",
            "\n",
            "A+B:\n",
            " [[ 6 12 12  5]\n",
            " [ 6  6  7 12]\n",
            " [11  3  5 17]]\n",
            "\n",
            "Transpose B:\n",
            " [[4 4 2]\n",
            " [3 6 1]\n",
            " [4 2 2]\n",
            " [0 9 9]]\n",
            "\n",
            "Shape of transpose(B): (4, 3)\n",
            "\n",
            "Matrix multiplication of A and transpose(B):\n",
            " [[ 67 123  74]\n",
            " [ 28  45  41]\n",
            " [ 54 126  98]]\n",
            "\n",
            " Invert AB: [[ 0.02185603  0.07892454 -0.04952298]\n",
            " [ 0.01532235 -0.07429893  0.01951431]\n",
            " [-0.03174328  0.05203816  0.01240243]]\n"
          ]
        }
      ]
    },
    {
      "cell_type": "markdown",
      "metadata": {
        "id": "Rpv3nDTaVLbt"
      },
      "source": [
        "**(exercises)** \n",
        "\n",
        "\n",
        "1. Write a function that converts an array of Celsius temperatures into an array of Farenheit temperatures (according to the formula $C = (F - 32) / 1.8$.\n",
        "\n",
        "2. Write a function that sets the first row of a matrix to zero.\n",
        "\n",
        "3. Create a 5x5 array of the numbers from 1-25, and then append a row of zeroes to the end.\n",
        "\n",
        "4. Compute the product of $A$ and $B$, where $A$ is a 2x2 matrix of the first four even numbers squared and $B$ is a 2x2 matrix of the first four odd numbers squared.\n",
        "\n",
        "5. Write a function that divides each column of a matrix by its standard deviation.\n",
        "\n"
      ]
    },
    {
      "cell_type": "code",
      "metadata": {
        "id": "P6n5Rx20Vxt-",
        "colab": {
          "base_uri": "https://localhost:8080/"
        },
        "outputId": "7a4a091d-cce9-498e-c801-94ecbcdf03d3"
      },
      "source": [
        "# Task 1\n",
        "arr1=np.arange(20, 30).reshape(2,5)\n",
        "def convert(C):\n",
        "  F=C*1.8+32\n",
        "  print(F)\n",
        "print(arr1)\n",
        "convert(arr1)\n",
        "print(\"---------------------\")\n",
        "\n",
        "# Task 2 (uses the arr1 from Task 1)\n",
        "arr1[0]*=0\n",
        "print(arr1)\n",
        "print(\"---------------------\")\n",
        "\n",
        "# Task 3\n",
        "array = np.arange(1, 26).reshape(5,5)\n",
        "zeroes = np.zeros((1,5))\n",
        "temp=np.vstack((array,zeroes)).astype(int) # For some reasons, vstack changes data type into float64, so I converted it into int64 for better look :)\n",
        "print(temp)\n",
        "print(type(temp[2,0]))\n",
        "print(\"---------------------\")\n",
        "\n",
        "# Task 4\n",
        "A=np.array([[0, 4], [16, 36]])\n",
        "B=np.array([[1, 9], [25, 49]])\n",
        "print(np.matmul(A,B))\n",
        "print(\"---------------------\")\n",
        "\n",
        "# Task 5\n",
        "def divide(arr):\n",
        "  lst = list()\n",
        "  for i in range(np.shape(arr)[1]):\n",
        "    lst.append(np.std(arr[:,i]))\n",
        "  return np.true_divide(arr,lst)\n",
        "divide(temp) # checking the function performance on the \"temp\" array initiated before"
      ],
      "execution_count": null,
      "outputs": [
        {
          "output_type": "stream",
          "name": "stdout",
          "text": [
            "[[20 21 22 23 24]\n",
            " [25 26 27 28 29]]\n",
            "[[68.  69.8 71.6 73.4 75.2]\n",
            " [77.  78.8 80.6 82.4 84.2]]\n",
            "---------------------\n",
            "[[ 0  0  0  0  0]\n",
            " [25 26 27 28 29]]\n",
            "---------------------\n",
            "[[ 1  2  3  4  5]\n",
            " [ 6  7  8  9 10]\n",
            " [11 12 13 14 15]\n",
            " [16 17 18 19 20]\n",
            " [21 22 23 24 25]\n",
            " [ 0  0  0  0  0]]\n",
            "<class 'numpy.int64'>\n",
            "---------------------\n",
            "[[ 100  196]\n",
            " [ 916 1908]]\n",
            "---------------------\n"
          ]
        },
        {
          "output_type": "execute_result",
          "data": {
            "text/plain": [
              "array([[0.13077514, 0.25468582, 0.37170729, 0.4819316 , 0.58554004],\n",
              "       [0.78465085, 0.89140036, 0.99121945, 1.08434609, 1.17108009],\n",
              "       [1.43852656, 1.5281149 , 1.6107316 , 1.68676059, 1.75662013],\n",
              "       [2.09240227, 2.16482944, 2.23024376, 2.28917509, 2.34216018],\n",
              "       [2.74627798, 2.80154398, 2.84975591, 2.89158958, 2.92770022],\n",
              "       [0.        , 0.        , 0.        , 0.        , 0.        ]])"
            ]
          },
          "metadata": {},
          "execution_count": 41
        }
      ]
    },
    {
      "cell_type": "markdown",
      "metadata": {
        "id": "OcSA5Bqaetg3"
      },
      "source": [
        "This lab also relies on the following libraries:\n",
        "* MatPlotLib is a plotting package used to create graphs and figures in order to visualize data and models\n",
        "* Scikit-learn is a high-level machine learning library containing common datasets, models, and transformations for machine learning"
      ]
    },
    {
      "cell_type": "code",
      "metadata": {
        "id": "GFsZOHjreyJV"
      },
      "source": [
        "import matplotlib.pyplot as plt"
      ],
      "execution_count": null,
      "outputs": []
    },
    {
      "cell_type": "markdown",
      "metadata": {
        "id": "wFH7BFNeUk2h"
      },
      "source": [
        "# Regression\n",
        "\n",
        "Regression is the general problem of predicting the value of some quantity of interest given some inputs. Many real-world problems are regression problems, such as predicting\n",
        "* how much money a movie will make\n",
        "* the score of a basketball game\n",
        "* the number of COVID cases\n",
        "\n",
        "More formally, we describe the regression problem as learning a relationship, or function $f$, between a vector of **input features $x$** and an **output value $y$**. When we evaluate $f$ on a new input $x$, we want the model's prediction $f(x)$ to be close to the actual output $y$.\n",
        "\n",
        "## Data\n",
        "\n",
        "Before we discuss what the function $f$ looks like, we will first take a look at the data, which are the ($x$, $y$) pairs. For regression, the output value $y$ will be a scalar number. The input $x$ is a vector, each entry of which we call an **input feature**. An input feature is some property of the underlying problem that we believe might be predictive of the output. For example, if we are interested in predicting how well someone will score on a test, we might use the number of hours slept the night before as a feature. Though we don't know the exact mathematical relationship between an input feature and the output, we hope that our machine learning methods can learn a function that's close to the true relationship.\n",
        "\n",
        "For this lab, we'll use a dataset of neighborhood features and try to predict the average house value (in units of 100K) in that neighborhood, though the methods used here will be applicable to any regression dataset you're interested in. We'll load this dataset using Scikit-learn; you can read about it [here](https://scikit-learn.org/stable/datasets/real_world.html#california-housing-dataset)."
      ]
    },
    {
      "cell_type": "code",
      "metadata": {
        "id": "jjzV4GluXkxM"
      },
      "source": [
        "from sklearn.datasets import fetch_california_housing\n",
        "X, y = fetch_california_housing(return_X_y=True)"
      ],
      "execution_count": null,
      "outputs": []
    },
    {
      "cell_type": "markdown",
      "metadata": {
        "id": "GqBKjxHMbAJ3"
      },
      "source": [
        "In using machine learning methods, it's important that we first understand the data we're using to make sure the methods we're using are appropriate for the task at hand.\n",
        "\n",
        "Let's first understand how much data we have and what a few examples from the dataset look like. Write code to do the following: **(exercise)**\n",
        "* Print the first 10 examples\n",
        "* Determine the number of data points we have\n",
        "* Print the min, max, and median values for a feature."
      ]
    },
    {
      "cell_type": "code",
      "metadata": {
        "id": "6tBKdHm1gY7x",
        "colab": {
          "base_uri": "https://localhost:8080/"
        },
        "outputId": "97a0ec2f-3afe-4acf-e6a7-18fecd0c1fad"
      },
      "source": [
        "print(X[:10]) # I mostly copied solutions from the solutions notebook since this task was a novelty for me. I hope it is fine.\n",
        "print(y[:10])\n",
        "print(f\"There are {X.shape[0]} examples\")\n",
        "\n",
        "import numpy as np # relaunching notebook, so had to reimport it here for convenience\n",
        "\n",
        "def print_summary(idx):\n",
        "  print(f\"Feature {idx}:\")\n",
        "  print(f\"Mean: {X[:, idx].mean()}\")\n",
        "  print(f\"Median: {np.median(X[:, idx])}\")\n",
        "  print(f\"Min: {X[:, idx].min()}\")\n",
        "  print(f\"Max: {X[:, idx].max()}\")\n",
        "\n",
        "print_summary(2)"
      ],
      "execution_count": null,
      "outputs": [
        {
          "output_type": "stream",
          "name": "stdout",
          "text": [
            "[[ 8.32520000e+00  4.10000000e+01  6.98412698e+00  1.02380952e+00\n",
            "   3.22000000e+02  2.55555556e+00  3.78800000e+01 -1.22230000e+02]\n",
            " [ 8.30140000e+00  2.10000000e+01  6.23813708e+00  9.71880492e-01\n",
            "   2.40100000e+03  2.10984183e+00  3.78600000e+01 -1.22220000e+02]\n",
            " [ 7.25740000e+00  5.20000000e+01  8.28813559e+00  1.07344633e+00\n",
            "   4.96000000e+02  2.80225989e+00  3.78500000e+01 -1.22240000e+02]\n",
            " [ 5.64310000e+00  5.20000000e+01  5.81735160e+00  1.07305936e+00\n",
            "   5.58000000e+02  2.54794521e+00  3.78500000e+01 -1.22250000e+02]\n",
            " [ 3.84620000e+00  5.20000000e+01  6.28185328e+00  1.08108108e+00\n",
            "   5.65000000e+02  2.18146718e+00  3.78500000e+01 -1.22250000e+02]\n",
            " [ 4.03680000e+00  5.20000000e+01  4.76165803e+00  1.10362694e+00\n",
            "   4.13000000e+02  2.13989637e+00  3.78500000e+01 -1.22250000e+02]\n",
            " [ 3.65910000e+00  5.20000000e+01  4.93190661e+00  9.51361868e-01\n",
            "   1.09400000e+03  2.12840467e+00  3.78400000e+01 -1.22250000e+02]\n",
            " [ 3.12000000e+00  5.20000000e+01  4.79752705e+00  1.06182380e+00\n",
            "   1.15700000e+03  1.78825348e+00  3.78400000e+01 -1.22250000e+02]\n",
            " [ 2.08040000e+00  4.20000000e+01  4.29411765e+00  1.11764706e+00\n",
            "   1.20600000e+03  2.02689076e+00  3.78400000e+01 -1.22260000e+02]\n",
            " [ 3.69120000e+00  5.20000000e+01  4.97058824e+00  9.90196078e-01\n",
            "   1.55100000e+03  2.17226891e+00  3.78400000e+01 -1.22250000e+02]]\n",
            "[4.526 3.585 3.521 3.413 3.422 2.697 2.992 2.414 2.267 2.611]\n",
            "There are 20640 examples\n",
            "Feature 2:\n",
            "Mean: 5.428999742190376\n",
            "Median: 5.229128787878788\n",
            "Min: 0.8461538461538461\n",
            "Max: 141.9090909090909\n"
          ]
        }
      ]
    },
    {
      "cell_type": "markdown",
      "metadata": {
        "id": "iESYSId0mn0W"
      },
      "source": [
        "Next, let's plot the data to get a sense of what it looks like.\n",
        "Since the input consists of multiple features, we'll pick out one feature at a time and see what it looks like compared to the housing price. \n",
        "\n",
        "**(exercise)** Use the following code to write a function that takes in the index of a feature to look at, and generates the plot for that feature."
      ]
    },
    {
      "cell_type": "code",
      "metadata": {
        "colab": {
          "base_uri": "https://localhost:8080/",
          "height": 527
        },
        "id": "0DIullDrXylV",
        "outputId": "829c5dfe-15de-4c11-de31-862be70f0877"
      },
      "source": [
        "plt.scatter(X[:,0], y)\n",
        "plt.show()\n",
        "\n",
        "def plot_feature(index):\n",
        "  plt.scatter(X[:,index], y)\n",
        "  plt.ylabel(\"average housing price\")\n",
        "  plt.xlabel(f\"Feature #{index}\")\n",
        "  plt.show()\n",
        "\n",
        "plot_feature(6)"
      ],
      "execution_count": null,
      "outputs": [
        {
          "output_type": "display_data",
          "data": {
            "image/png": "[encoded data removed]",
            "text/plain": [
              "<Figure size 432x288 with 1 Axes>"
            ]
          },
          "metadata": {
            "needs_background": "light"
          }
        },
        {
          "output_type": "display_data",
          "data": {
            "image/png": "[encoded data removed]",
            "text/plain": [
              "<Figure size 432x288 with 1 Axes>"
            ]
          },
          "metadata": {
            "needs_background": "light"
          }
        }
      ]
    },
    {
      "cell_type": "markdown",
      "metadata": {
        "id": "1qeeDudgg704"
      },
      "source": [
        "Though we will proceed with using this dataset as provided to us, we can apply any transformations to the data that we think will help surface useful signal to our machine learning model. There is a lot of freedom and room for domain expertise in designing input features for any particular task.\n",
        "\n",
        "If you have time, try adding a feature to the dataset by transforming one of the other features (e.g. take log, create a binary feature if a value crosses a certain threshold, etc.)."
      ]
    },
    {
      "cell_type": "code",
      "metadata": {
        "id": "KJOSPK-ShqGY"
      },
      "source": [
        ""
      ],
      "execution_count": null,
      "outputs": []
    },
    {
      "cell_type": "markdown",
      "metadata": {
        "id": "wlAAwyaRY3vw"
      },
      "source": [
        "\n",
        "## Model\n",
        "\n",
        "Now that we have looked at our data, we need to pick a type of model to learn from our data.\n",
        "For this lab, we will use a simple linear model, where we assume that the relationship between the output variable and each input feature is linear. \n",
        "\n",
        "Mathematically, we write this model as\n",
        "$$ y = f(x) = b + \\sum_{i=1}^m w_i x_i $$\n",
        "where $i$ indexes each dimension in the $m$-dimensional input feature vector $x$.\n",
        "Together, the $w_i$ and $b$ are called the **weights** or **parameters** of the model.\n",
        "If $x$ is 1-dimensional, then we get $y = wx + b$; if $x$ is 2-dimensional, then we get $y = w_1 x_1 + w_2 x_2 + b$; and so forth. \n",
        "Alternatively, we can write this as \n",
        "$$ y = w \\cdot x $$\n",
        "where $w$ is a vector representation of the $w_i$. To properly account for the bias term $b$, we append $b$ to $w$ (so that $w$ is $[w_1; w_2; \\dots; w_m; b]$) and append a 1 to the input features $x$.\n",
        "\n",
        "**(exercise)** Let's write a function which takes in some weights $w$ and $b$ and an input $x$ and outputs the $y$ computed by this model. You can use a for-loop, but we recommend using a vector product (you might find `np.dot()` useful)."
      ]
    },
    {
      "cell_type": "code",
      "metadata": {
        "id": "qYXQlCJ_r8w6"
      },
      "source": [
        "def linear(x, w, b):\n",
        "  return np.dot(w,x)+b\n",
        "\n",
        "assert linear([1], [10], 10) == 20\n",
        "assert linear([1, 1], [1, 1], 0) == 2"
      ],
      "execution_count": null,
      "outputs": []
    },
    {
      "cell_type": "markdown",
      "metadata": {
        "id": "yWFgioDar8J6"
      },
      "source": [
        "\n",
        "## Training\n",
        "\n",
        "In order to use this model, we need to first set the value of the weights. But, we don't know what the ''right'' values are.\n",
        "In order to do so, we first need to be able to say what constitutes good weights. Then, we can introduce an **objective function** that measures how good any set of weights are. Given this objective function, the best weights are the ones that maximize (or minimize) the objective function.\n",
        "\n",
        "For regression, we'll use the **residual sum of squares** (RSS):\n",
        "$$ L(w) = \\sum_{d \\in D} (y_d - f(x_d))^2 = \\sum_{d \\in D} (y_d - w \\cdot x_d)^2 $$\n",
        "where $D$ is our dataset of $(x ,y)$ pairs. Intuitively, this objective function looks at the distance from our model's predictions to the actual output. To pick the best $w$, then, we want to minimize this objective function.\n",
        "\n",
        "To minimize this expression, we look at where the gradient (or derivative, in 1-d) of the objective function with respect to the weights is equal to zero and solve for $w$ at that point. Let's first compute the derivative. \n",
        "\n",
        "For convenience, we'll use a vector product representation of the model and a matrix representation of the data ($X$ is a matrix where each row is a data point $x_i$ and $y$ is a column vector of the corresponding $y_i$).\n",
        "\n",
        "$$X = \\begin{bmatrix} x_1 \\\\ x_2 \\\\ \\dots \\\\ x_D \\end{bmatrix}; y = \\begin{bmatrix} y_1 \\\\ y_2 \\\\ \\dots \\\\ y_D \\end{bmatrix} $$\n",
        "\n",
        "$$ L(w) = (y - Xw)^\\top (y - Xw)$$\n",
        "$$ = y^\\top y - 2w^\\top X^\\top y + w^\\top X^\\top X w $$\n",
        "\n",
        "Now we can compute the gradient:\n",
        "\n",
        "$$ \\frac{\\delta L}{\\delta w} = \\frac{\\delta}{\\delta w} ( y^\\top y - 2w^\\top X^\\top y + w^\\top X^\\top X w ) $$\n",
        "$$ = -2X^\\top y + 2 X^\\top X w $$\n",
        "\n",
        "Now let's solve for $w$ when the gradient is zero:\n",
        "\n",
        "$$ -2X^\\top y + 2 X^\\top X w = 0 $$\n",
        "$$ X^\\top X w = X^\\top y $$\n",
        "$$ w^* = (X^\\top X)^{-1} X^\\top Y $$\n",
        "\n",
        "We now have a formula for the optimal value $w^*$ of the weights given the data.\n",
        "\n",
        "**(exercise)** Write a function that appends 1 to each data point, then write a function that computes the optimal weights according to this formula. You might find `np.transpose()`, `np.matmul()`, and `np.linalg.inv()` useful."
      ]
    },
    {
      "cell_type": "code",
      "metadata": {
        "id": "Rh-DDk8aoD4h"
      },
      "source": [
        "# write code for computing the optimal regression weights for the dataset\n",
        "def append_ones(Xs):\n",
        "  return np.hstack((Xs, np.ones((Xs.shape[0], 1))))\n",
        "\n",
        "def compute_weights(Xs, ys):\n",
        "  tmp1 = np.linalg.inv(np.matmul(np.transpose(Xs), Xs))\n",
        "  tmp2 = np.matmul(np.transpose(Xs), ys)\n",
        "  return np.matmul(tmp1, tmp2)\n",
        "\n",
        "X_new = append_ones(X)\n",
        "w_star = compute_weights(X_new, y)"
      ],
      "execution_count": null,
      "outputs": []
    },
    {
      "cell_type": "markdown",
      "metadata": {
        "id": "Y6taUKoKzviK"
      },
      "source": [
        "Now that we can compute the optimal weights, we can do so on our dataset. However, we don't just care about how well our model does on our data, but also any future data we might receive. In order to see how well our learned model performs on future data, we can split up our dataset into a **training set** and a **test set**. \n",
        "\n",
        "**(exercise)** Let's write a function to reserve 20% of the data for testing, and then compute the optimal weights on the remaining 80% of the data. \n",
        "\n",
        "What is the value of the bias term $b$ the model learns?"
      ]
    },
    {
      "cell_type": "code",
      "metadata": {
        "id": "jK5l9Zm2zw1g",
        "colab": {
          "base_uri": "https://localhost:8080/"
        },
        "outputId": "f286d864-ca2a-49f9-824c-5305e233e1dd"
      },
      "source": [
        "# split the dataset into training and test\n",
        "n_exs = len(X_new)\n",
        "n_train = int(n_exs * .8)\n",
        "X_train = X_new[:n_train]\n",
        "y_train = y[:n_train]\n",
        "X_test = X_new[n_train:]\n",
        "y_test = y[n_train:]\n",
        "# use above function to compute the best w on the training data\n",
        "w = compute_weights(X_train, y_train)\n",
        "\n",
        "print(f\"The bias is {w[-1]}\")"
      ],
      "execution_count": null,
      "outputs": [
        {
          "output_type": "stream",
          "name": "stdout",
          "text": [
            "The bias is -36.39051025357709\n"
          ]
        }
      ]
    },
    {
      "cell_type": "markdown",
      "metadata": {
        "id": "IPjVbQHEoEIm"
      },
      "source": [
        "\n",
        "## Evaluation\n",
        "\n",
        "Now that we have a model, let's evaluate how good our model is.\n",
        "Again, we need some sense of what counts as good, so we will use the RSS to define good (lower RSS is better). However, since RSS is a sum, it will naturally be higher when we evaluate on more data, so let's instead compute the mean squared error (MSE) over examples. MSE is the following:\n",
        "\n",
        "$$ MSE = \\frac{1}{|D|} \\sum_{i = 1}^{|D|} (y - w \\cdot x)^2 $$\n",
        "\n",
        "\n",
        "**(exercise)** Write a function to compute MSE, then compute the MSE for $w^*$ on the training data and the test data.\n"
      ]
    },
    {
      "cell_type": "code",
      "metadata": {
        "id": "Qb2guYTuoJ4M",
        "colab": {
          "base_uri": "https://localhost:8080/"
        },
        "outputId": "75e52c6d-10df-4b00-876f-37114254c55b"
      },
      "source": [
        "# write code for evaluating the MSE of the model predictions versus the actual target on the test set\n",
        "def mse(w, X, y):\n",
        "  a = np.matmul(X,w)\n",
        "  return np.mean(np.power(y-a,2))\n",
        "\n",
        "print(f\"Train error {mse(w, X_train, y_train)}\")\n",
        "print(f\"Test error {mse(w, X_test, y_test)}\")"
      ],
      "execution_count": null,
      "outputs": [
        {
          "output_type": "stream",
          "name": "stdout",
          "text": [
            "Train error 0.5355338064877695\n",
            "Test error 0.494684835638358\n"
          ]
        }
      ]
    },
    {
      "cell_type": "markdown",
      "metadata": {
        "id": "SELIct973E0s"
      },
      "source": [
        "A nice property of a linear model is that the weights are interpretable: We can look at the magnitude of the weights for each feature to get a sense of which features are most influential in predicting the output.\n",
        "\n",
        "**(exercise)** Write code to look at the learned weights and determine which features the model puts the highest weight on."
      ]
    },
    {
      "cell_type": "code",
      "metadata": {
        "id": "ji_wvUp33qXK",
        "colab": {
          "base_uri": "https://localhost:8080/"
        },
        "outputId": "13d3bc18-754c-417b-a7cb-b15f146dd23b"
      },
      "source": [
        "# write code for looking at the weights to see the importance of each feature\n",
        "print(w)"
      ],
      "execution_count": null,
      "outputs": [
        {
          "output_type": "stream",
          "name": "stdout",
          "text": [
            "[ 4.47847084e-01  9.40820722e-03 -1.20960919e-01  7.10267788e-01\n",
            " -1.47053238e-06 -8.81496820e-03 -4.21714509e-01 -4.29775301e-01\n",
            " -3.63905103e+01]\n"
          ]
        }
      ]
    }
  ]
}